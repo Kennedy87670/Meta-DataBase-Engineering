{
 "cells": [
  {
   "cell_type": "code",
   "execution_count": 1,
   "id": "1669819f",
   "metadata": {},
   "outputs": [],
   "source": [
    "#!pip install mysql-connector-python"
   ]
  },
  {
   "cell_type": "code",
   "execution_count": 2,
   "id": "3e508ec1",
   "metadata": {},
   "outputs": [],
   "source": [
    "from mysql.connector.pooling import MySQLConnectionPool\n",
    "from mysql.connector import Error"
   ]
  },
  {
   "cell_type": "code",
   "execution_count": 3,
   "id": "fdd5331f",
   "metadata": {},
   "outputs": [],
   "source": [
    "#!pip install mysql-connector"
   ]
  },
  {
   "cell_type": "code",
   "execution_count": 4,
   "id": "cc3d9e48",
   "metadata": {},
   "outputs": [],
   "source": [
    "import mysql.connector as connector\n",
    "from mysql.connector import errorcode"
   ]
  },
  {
   "cell_type": "code",
   "execution_count": 5,
   "id": "0a70f6de",
   "metadata": {},
   "outputs": [
    {
     "name": "stdout",
     "output_type": "stream",
     "text": [
      "connected sucessfully\n"
     ]
    }
   ],
   "source": [
    "try:\n",
    "    connection = connector.connect(user=\"root\", password=\"Hopewalk1@\", port=3306)\n",
    "    print(\"connected sucessfully\")\n",
    "except:\n",
    "    print(\"There was an error connecting to the database\")\n",
    "    # cursor.execute(\"USE database_name\")"
   ]
  },
  {
   "cell_type": "code",
   "execution_count": 6,
   "id": "8856a9da",
   "metadata": {},
   "outputs": [],
   "source": [
    "cursor = connection.cursor()"
   ]
  },
  {
   "cell_type": "code",
   "execution_count": 7,
   "id": "21fb2ed4",
   "metadata": {},
   "outputs": [
    {
     "name": "stdout",
     "output_type": "stream",
     "text": [
      "Database Dropped\n",
      "Database created\n"
     ]
    }
   ],
   "source": [
    "try:\n",
    "    cursor.execute(\"CREATE DATABASE little_lemon_db\")\n",
    "except:\n",
    "    cursor.execute(\"DROP DATABASE little_lemon_db\")\n",
    "    print(\"Database Dropped\")\n",
    "    cursor.execute(\"CREATE DATABASE little_lemon_db\")\n",
    "    print(\"Database created\")\n",
    "\n",
    "cursor.execute(\"USE little_lemon_db\")"
   ]
  },
  {
   "cell_type": "code",
   "execution_count": 8,
   "id": "2feb1fa2",
   "metadata": {},
   "outputs": [],
   "source": [
    "cursor = connection.cursor()"
   ]
  },
  {
   "cell_type": "code",
   "execution_count": 9,
   "id": "b92754ef",
   "metadata": {},
   "outputs": [
    {
     "name": "stdout",
     "output_type": "stream",
     "text": [
      "MenuItems table is created.\n",
      "\n"
     ]
    }
   ],
   "source": [
    "# The SQL query for the MenuItems table is: \n",
    "create_menuitem_table=\"\"\"\n",
    "CREATE TABLE MenuItems (\n",
    "ItemID INT AUTO_INCREMENT,\n",
    "Name VARCHAR(200),\n",
    "Type VARCHAR(100),\n",
    "Price INT,\n",
    "PRIMARY KEY (ItemID)\n",
    ");\"\"\"\n",
    "\n",
    "# Create MenuItems table\n",
    "cursor.execute(create_menuitem_table)\n",
    "print(\"MenuItems table is created.\\n\")"
   ]
  },
  {
   "cell_type": "code",
   "execution_count": 10,
   "id": "49e20cd0",
   "metadata": {},
   "outputs": [
    {
     "name": "stdout",
     "output_type": "stream",
     "text": [
      "Inserting data in MenuItems table.\n",
      "Total number of rows in MenuItem table: 17\n",
      "\n"
     ]
    }
   ],
   "source": [
    "insert_menuitems=\"\"\"\n",
    "INSERT INTO MenuItems (ItemID, Name, Type, Price)\n",
    "VALUES\n",
    "(1,'Olives','Starters',5),\n",
    "(2,'Flatbread','Starters', 5),\n",
    "(3, 'Minestrone', 'Starters', 8),\n",
    "(4, 'Tomato bread','Starters', 8),\n",
    "(5, 'Falafel', 'Starters', 7),\n",
    "(6, 'Hummus', 'Starters', 5),\n",
    "(7, 'Greek salad', 'Main Courses', 15),\n",
    "(8, 'Bean soup', 'Main Courses', 12),\n",
    "(9, 'Pizza', 'Main Courses', 15),\n",
    "(10,'Greek yoghurt','Desserts', 7),\n",
    "(11, 'Ice cream', 'Desserts', 6),\n",
    "(12, 'Cheesecake', 'Desserts', 4),\n",
    "(13, 'Athens White wine', 'Drinks', 25),\n",
    "(14, 'Corfu Red Wine', 'Drinks', 30),\n",
    "(15, 'Turkish Coffee', 'Drinks', 10),\n",
    "(16, 'Turkish Coffee', 'Drinks', 10),\n",
    "(17, 'Kabasa', 'Main Courses', 17);\"\"\"\n",
    "\n",
    "print(\"Inserting data in MenuItems table.\")\n",
    "# Populate MenuItems table\n",
    "cursor.execute(insert_menuitems)\n",
    "print(\"Total number of rows in MenuItem table: {}\\n\".format(cursor.rowcount))\n",
    "# Once the query is executed,  commit the change to the database \n",
    "connection.commit()"
   ]
  },
  {
   "cell_type": "code",
   "execution_count": 11,
   "id": "56a3420d",
   "metadata": {},
   "outputs": [
    {
     "name": "stdout",
     "output_type": "stream",
     "text": [
      "Menu table is created.\n",
      "\n"
     ]
    }
   ],
   "source": [
    "create_menu_table=\"\"\"\n",
    "CREATE TABLE Menus (\n",
    "MenuID INT,\n",
    "ItemID INT,\n",
    "Cuisine VARCHAR(100),\n",
    "PRIMARY KEY (MenuID, ItemID)\n",
    ");\"\"\"\n",
    "\n",
    "# Create Menus table\n",
    "cursor.execute(create_menu_table)\n",
    "print(\"Menu table is created.\\n\")"
   ]
  },
  {
   "cell_type": "code",
   "execution_count": 12,
   "id": "f85cd2ad",
   "metadata": {},
   "outputs": [
    {
     "name": "stdout",
     "output_type": "stream",
     "text": [
      "Inserting data in Menus table.\n",
      "Total number of rows in Menu table: 12\n",
      "\n"
     ]
    }
   ],
   "source": [
    "insert_menus=\"\"\"\n",
    "INSERT INTO Menus (MenuID, ItemID, Cuisine)\n",
    "VALUES\n",
    "(1, 1, 'Greek'),\n",
    "(1, 7, 'Greek'),\n",
    "(1, 10, 'Greek'),\n",
    "(1, 13, 'Greek'),\n",
    "(2, 3, 'Italian'),\n",
    "(2, 9, 'Italian'),\n",
    "(2, 12, 'Italian'),\n",
    "(2, 15, 'Italian'),\n",
    "(3, 5, 'Turkish'),\n",
    "(3, 17, 'Turkish'),\n",
    "(3, 11, 'Turkish'),\n",
    "(3, 16, 'Turkish');\"\"\"\n",
    "\n",
    "print(\"Inserting data in Menus table.\")\n",
    "# Populate Menus table\n",
    "cursor.execute(insert_menus)\n",
    "print(\"Total number of rows in Menu table: {}\\n\".format(cursor.rowcount))\n",
    "connection.commit()"
   ]
  },
  {
   "cell_type": "code",
   "execution_count": 13,
   "id": "7fc6bd9a",
   "metadata": {},
   "outputs": [
    {
     "name": "stdout",
     "output_type": "stream",
     "text": [
      "Bookings table is created.\n",
      "\n"
     ]
    }
   ],
   "source": [
    "create_booking_table=\"\"\"\n",
    "CREATE TABLE Bookings (\n",
    "BookingID INT AUTO_INCREMENT,\n",
    "TableNo INT,\n",
    "GuestFirstName VARCHAR(100) NOT NULL,\n",
    "GuestLastName VARCHAR(100) NOT NULL,\n",
    "BookingSlot TIME NOT NULL,\n",
    "EmployeeID INT,\n",
    "PRIMARY KEY (BookingID)\n",
    ");\"\"\"\n",
    "\n",
    "# Create Bookings table\n",
    "cursor.execute(create_booking_table)\n",
    "print(\"Bookings table is created.\\n\")"
   ]
  },
  {
   "cell_type": "code",
   "execution_count": 14,
   "id": "fd8acd13",
   "metadata": {},
   "outputs": [
    {
     "name": "stdout",
     "output_type": "stream",
     "text": [
      "Inserting data in Bookings table.\n",
      "Total number of rows in Bookings table: 6\n",
      "\n"
     ]
    }
   ],
   "source": [
    "insert_bookings=\"\"\"\n",
    "INSERT INTO Bookings (BookingID, TableNo, GuestFirstName, \n",
    "GuestLastName, BookingSlot, EmployeeID)\n",
    "VALUES\n",
    "(1,12,'Anna','Iversen','19:00:00',1),\n",
    "(2, 12, 'Joakim', 'Iversen', '19:00:00', 1),\n",
    "(3, 19, 'Vanessa', 'McCarthy', '15:00:00', 3),\n",
    "(4, 15, 'Marcos', 'Romero', '17:30:00', 4),\n",
    "(5, 5, 'Hiroki', 'Yamane', '18:30:00', 2),\n",
    "(6, 8, 'Diana', 'Pinto', '20:00:00', 5);\"\"\"\n",
    "\n",
    "print(\"Inserting data in Bookings table.\")\n",
    "# Populate Bookings table\n",
    "cursor.execute(insert_bookings)\n",
    "print(\"Total number of rows in Bookings table: {}\\n\".format(cursor.rowcount))\n",
    "connection.commit()"
   ]
  },
  {
   "cell_type": "code",
   "execution_count": 15,
   "id": "4cfcd1a6",
   "metadata": {},
   "outputs": [
    {
     "name": "stdout",
     "output_type": "stream",
     "text": [
      "Orders table is created.\n",
      "\n"
     ]
    }
   ],
   "source": [
    "create_orders_table=\"\"\"\n",
    "CREATE TABLE Orders (\n",
    "OrderID INT,\n",
    "TableNo INT,\n",
    "MenuID INT,\n",
    "BookingID INT,\n",
    "BillAmount INT,\n",
    "Quantity INT,\n",
    "PRIMARY KEY (OrderID,TableNo)\n",
    ");\"\"\"\n",
    "\n",
    "# Create Orders table\n",
    "cursor.execute(create_orders_table)\n",
    "print(\"Orders table is created.\\n\")"
   ]
  },
  {
   "cell_type": "code",
   "execution_count": 16,
   "id": "624060d4",
   "metadata": {},
   "outputs": [
    {
     "name": "stdout",
     "output_type": "stream",
     "text": [
      "Inserting data in Orders table.\n",
      "Total number of rows in Orders table: 5\n",
      "\n"
     ]
    }
   ],
   "source": [
    "insert_orders=\"\"\"\n",
    "INSERT INTO Orders (OrderID, TableNo, MenuID, BookingID, Quantity, BillAmount)\n",
    "VALUES\n",
    "(1, 12, 1, 1, 2, 86),\n",
    "(2, 19, 2, 2, 1, 37),\n",
    "(3, 15, 2, 3, 1, 37),\n",
    "(4, 5, 3, 4, 1, 40),\n",
    "(5, 8, 1, 5, 1, 43);\"\"\"\n",
    "\n",
    "print(\"Inserting data in Orders table.\")\n",
    "# Populate Orders table\n",
    "cursor.execute(insert_orders)\n",
    "print(\"Total number of rows in Orders table: {}\\n\".format(cursor.rowcount))\n",
    "connection.commit()"
   ]
  },
  {
   "cell_type": "code",
   "execution_count": 17,
   "id": "b43b77a6",
   "metadata": {},
   "outputs": [],
   "source": [
    "create_employees_table=\"\"\"\n",
    "CREATE TABLE Employees (\n",
    "EmployeeID INT AUTO_INCREMENT,\n",
    "Name VARCHAR(200),\n",
    "Role VARCHAR(100),\n",
    "Address VARCHAR(200),\n",
    "Contact_Number INT,\n",
    "Email VARCHAR(100),\n",
    "Annual_Salary VARCHAR(100),\n",
    "PRIMARY KEY (EmployeeID)\n",
    ");\"\"\"\n",
    "\n",
    "# Create Employees table\n",
    "cursor.execute(create_employees_table)"
   ]
  },
  {
   "cell_type": "code",
   "execution_count": 18,
   "id": "77b9fbde",
   "metadata": {},
   "outputs": [
    {
     "name": "stdout",
     "output_type": "stream",
     "text": [
      "Inserting data in the Employees table.\n",
      "Total number of rows in the Employees table:  6\n"
     ]
    }
   ],
   "source": [
    "insert_employees=\"\"\"\n",
    "INSERT INTO Employees (EmployeeID, Name, Role, Address, Contact_Number, Email, Annual_Salary)\n",
    "VALUES\n",
    "(01,'Mario Gollini','Manager','724, Parsley Lane, Old Town, Chicago, IL',351258074,'Mario.g@littlelemon.com','$70,000'),\n",
    "(02,'Adrian Gollini','Assistant Manager','334, Dill Square, Lincoln Park, Chicago, IL',351474048,'Adrian.g@littlelemon.com','$65,000'),\n",
    "(03,'Giorgos Dioudis','Head Chef','879 Sage Street, West Loop, Chicago, IL',351970582,'Giorgos.d@littlelemon.com','$50,000'),\n",
    "(04,'Fatma Kaya','Assistant Chef','132  Bay Lane, Chicago, IL',351963569,'Fatma.k@littlelemon.com','$45,000'),\n",
    "(05,'Elena Salvai','Head Waiter','989 Thyme Square, EdgeWater, Chicago, IL',351074198,'Elena.s@littlelemon.com','$40,000'),\n",
    "(06,'John Millar','Receptionist','245 Dill Square, Lincoln Park, Chicago, IL',351584508,'John.m@littlelemon.com','$35,000');\"\"\"\n",
    "\n",
    "\n",
    "print(\"Inserting data in the Employees table.\")\n",
    "# Populate Employees table\n",
    "cursor.execute(insert_employees)\n",
    "print(\"Total number of rows in the Employees table: \", cursor.rowcount)\n",
    "# Once the query is executed, you can commit the change to the database \n",
    "connection.commit()"
   ]
  },
  {
   "cell_type": "code",
   "execution_count": 19,
   "id": "d831e762",
   "metadata": {},
   "outputs": [
    {
     "name": "stdout",
     "output_type": "stream",
     "text": [
      "The connection pool is created with a name:  pool_a\n",
      "The pool size is: 2\n"
     ]
    }
   ],
   "source": [
    "# Step two: Import Error\n",
    "\n",
    "try:\n",
    "    # Step three: Create a pool named pool_a with two connections\n",
    "    dbconfig = {\n",
    "        \"database\": \"little_lemon_db\",\n",
    "        \"user\": \"root\",\n",
    "        \"password\": \"Hopewalk1@\"\n",
    "    }\n",
    "   \n",
    "    pool_a = MySQLConnectionPool(pool_name=\"pool_a\", pool_size=2, **dbconfig)\n",
    "    print(\"The connection pool is created with a name: \",pool_a.pool_name)\n",
    "    print(\"The pool size is:\",pool_a.pool_size)\n",
    "\n",
    "    # Step four: Obtain a connection from pool_a and create a cursor object\n",
    "    connection = pool_a.get_connection()\n",
    "    cursor = connection.cursor()\n",
    "\n",
    "    # Perform database operations using the cursor\n",
    "\n",
    "    # Close the cursor and connection\n",
    "    # cursor.close()\n",
    "    # connection.close()\n",
    "\n",
    "except Error as e:\n",
    "    print(\"Error connecting to the database:\", e)"
   ]
  },
  {
   "attachments": {},
   "cell_type": "markdown",
   "id": "beb26f26",
   "metadata": {},
   "source": [
    "Implement Query And Stored Procedure\n"
   ]
  },
  {
   "cell_type": "code",
   "execution_count": 20,
   "id": "e6516e8a",
   "metadata": {},
   "outputs": [],
   "source": [
    "    \n",
    "# Step one: Write a SQL CREATE PROCEDURE query for PeakHours\n",
    "create_procedure_query = \"\"\"\n",
    "CREATE PROCEDURE PeakHours()\n",
    "BEGIN\n",
    "    SELECT HOUR(BookingSlot) AS Hour, COUNT(*) AS Bookings\n",
    "    FROM Bookings\n",
    "    GROUP BY Hour\n",
    "    ORDER BY Bookings DESC;\n",
    "END\n",
    "\"\"\"\n"
   ]
  },
  {
   "cell_type": "code",
   "execution_count": 21,
   "id": "a4c26ae5",
   "metadata": {},
   "outputs": [
    {
     "name": "stdout",
     "output_type": "stream",
     "text": [
      "Column Names: ['Hour', 'Bookings']\n",
      "(19, 2)\n",
      "(15, 1)\n",
      "(17, 1)\n",
      "(18, 1)\n",
      "(20, 1)\n"
     ]
    }
   ],
   "source": [
    "\n",
    "try:\n",
    "    # Step two: Run the stored procedure query by invoking execute module on the cursor\n",
    "    cursor.execute(create_procedure_query)\n",
    "\n",
    "    # Step three: Invoke callproc to call the stored procedure\n",
    "    cursor.callproc(\"PeakHours\")\n",
    "\n",
    "    # Step four: Fetch the results in a variable called dataset\n",
    "    results = next(cursor.stored_results() )\n",
    "    dataset = results.fetchall()\n",
    "\n",
    "    # Step five: Extract the names of the columns\n",
    "    for column_id in cursor.stored_results():\n",
    "        columns = [column[0] for column in column_id.description]\n",
    "\n",
    "    # Step six: Print the names of the columns\n",
    "    print(\"Column Names:\", columns)\n",
    "\n",
    "    # Step seven: Print the sorted data using a for loop\n",
    "    for row in dataset:\n",
    "        print(row)\n",
    "\n",
    "except Error as e:\n",
    "    print(\"Error executing the stored procedure:\", e)"
   ]
  },
  {
   "attachments": {},
   "cell_type": "markdown",
   "id": "08ab5192",
   "metadata": {},
   "source": [
    "Implement stored Procedure GuestStatus"
   ]
  },
  {
   "cell_type": "code",
   "execution_count": 22,
   "id": "c3842812",
   "metadata": {},
   "outputs": [],
   "source": [
    "stored_procedure_gueststatus_query=\"\"\"\n",
    "CREATE PROCEDURE GuestStatus()\n",
    "BEGIN\n",
    "SELECT \n",
    "\n",
    "    Bookings.BookingID AS OrderNumber,  \n",
    "    CONCAT(GuestFirstName,' ',GuestLastName) AS GuestName, \n",
    "    Role AS Employee, \n",
    "    CASE \n",
    "        WHEN Role IN ('Manager','Assistant Manager') THEN \"Ready to Pay\"\n",
    "        WHEN Role = 'Head Chef' THEN \"Ready to serve\"\n",
    "        WHEN Role = 'Assistant Chef' THEN \"Preparing order\"\n",
    "        WHEN Role = 'Head Waiter' THEN \"Order served\"\n",
    "    ELSE \"Pending\"\n",
    "    END AS Status\n",
    "    FROM Bookings \n",
    "        LEFT JOIN \n",
    "        Employees \n",
    "        ON Employees.EmployeeID=Bookings.EmployeeID;\n",
    "END\n",
    "\"\"\"\n"
   ]
  },
  {
   "cell_type": "code",
   "execution_count": 23,
   "id": "ad9a5cd9",
   "metadata": {},
   "outputs": [
    {
     "name": "stdout",
     "output_type": "stream",
     "text": [
      "Column Names: ['OrderNumber', 'GuestName', 'Employee', 'Status']\n",
      "(1, 'Anna Iversen', 'Manager', 'Ready to Pay')\n",
      "(2, 'Joakim Iversen', 'Manager', 'Ready to Pay')\n",
      "(3, 'Vanessa McCarthy', 'Head Chef', 'Ready to serve')\n",
      "(4, 'Marcos Romero', 'Assistant Chef', 'Preparing order')\n",
      "(5, 'Hiroki Yamane', 'Assistant Manager', 'Ready to Pay')\n",
      "(6, 'Diana Pinto', 'Head Waiter', 'Order served')\n"
     ]
    }
   ],
   "source": [
    "\n",
    "try:\n",
    "    # Step two: Run the stored procedure query by invoking execute module on the cursor\n",
    "    cursor.execute(stored_procedure_gueststatus_query)\n",
    "\n",
    "    # Step three: Invoke callproc to call the stored procedure\n",
    "    cursor.callproc(\"GuestStatus\")\n",
    "\n",
    "    # Step four: Fetch the results in a variable called dataset\n",
    "    results = next(cursor.stored_results() )\n",
    "    dataset = results.fetchall()\n",
    "\n",
    "    # Step five: Extract the names of the columns\n",
    "    for column_id in cursor.stored_results():\n",
    "        columns = [column[0] for column in column_id.description]\n",
    "\n",
    "    # Step six: Print the names of the columns\n",
    "    print(\"Column Names:\", columns)\n",
    "\n",
    "    # Step seven: Print the sorted data using a for loop\n",
    "    for row in dataset:\n",
    "        print(row)\n",
    "\n",
    "except Error as e:\n",
    "    print(\"Error executing the stored procedure:\", e)"
   ]
  },
  {
   "attachments": {},
   "cell_type": "markdown",
   "id": "7f3ef45c",
   "metadata": {},
   "source": [
    "Little Lemon Analysis and sales Report "
   ]
  },
  {
   "cell_type": "code",
   "execution_count": 24,
   "id": "67d98112",
   "metadata": {},
   "outputs": [
    {
     "name": "stdout",
     "output_type": "stream",
     "text": [
      "The connection pool is created with a name:  pool_b\n",
      "The pool size is: 2\n"
     ]
    }
   ],
   "source": [
    "# Step two: Import Error\n",
    "\n",
    "try:\n",
    "    # Step three: Create a pool named pool_a with two connections\n",
    "    dbconfig = {\n",
    "        \"database\": \"little_lemon_db\",\n",
    "        \"user\": \"root\",\n",
    "        \"password\": \"Hopewalk1@\"\n",
    "    }\n",
    "   \n",
    "    pool_b = MySQLConnectionPool(pool_name=\"pool_b\", pool_size=2, **dbconfig)\n",
    "    print(\"The connection pool is created with a name: \",pool_b.pool_name)\n",
    "    print(\"The pool size is:\",pool_b.pool_size)\n",
    "\n",
    "    # Step four: Obtain a connection from pool_a and create a cursor object\n",
    "    connection = pool_a.get_connection()\n",
    "    cursor = connection.cursor()\n",
    "\n",
    "    # Perform database operations using the cursor\n",
    "\n",
    "    # Close the cursor and connection\n",
    "    # cursor.close()\n",
    "    # connection.close()\n",
    "\n",
    "except Error as e:\n",
    "    print(\"Error connecting to the database:\", e)"
   ]
  },
  {
   "cell_type": "code",
   "execution_count": 25,
   "id": "c51df739",
   "metadata": {},
   "outputs": [
    {
     "name": "stdout",
     "output_type": "stream",
     "text": [
      "Connection1 connected\n",
      "connection2 connected\n",
      "exceeds number of pools available \n",
      "Error while getting connections from the pool: Failed getting connection; pool exhausted\n"
     ]
    }
   ],
   "source": [
    "\n",
    "\n",
    "# TASK 2\n",
    "# connection 1\n",
    "try:\n",
    "    # Get first connection\n",
    "    connection1 = pool_b.get_connection()\n",
    "    print(\"Connection 1 connected\")\n",
    "except Error as e:\n",
    "    print(\"Error while getting connections from the pool:\", e)\n",
    "\n",
    "# connection 2\n",
    "try:\n",
    "    # Get first connection\n",
    "    connection2 = pool_b.get_connection()\n",
    "    print('connection 2 connected')\n",
    "except Error as e:\n",
    "    print(\"Error while getting connections from the pool:\", e)\n",
    "\n",
    "# connection 3\n",
    "try:\n",
    "    # Get first connection\n",
    "    connection3 = pool_b.get_connection()\n",
    "except Error as e:\n",
    "    print(\"exceeds number of pools available \")\n",
    "    print(\"Error while getting connections from the pool:\", e)\n",
    "\n",
    "\n"
   ]
  },
  {
   "cell_type": "code",
   "execution_count": 26,
   "id": "2c519c6c",
   "metadata": {},
   "outputs": [],
   "source": [
    "\n",
    "# Step two: Insert data for Guest 1\n",
    "guest1_data = {\n",
    "    \"TableNo\": 8,\n",
    "    \"GuestFirstName\": \"Anees\",\n",
    "    \"GuestLastName\": \"Java\",\n",
    "    \"BookingSlot\": \"18:00:00\",\n",
    "    \"EmployeeID\": 6\n",
    "}\n",
    "\n",
    "insert_query1 = \"\"\"\n",
    "INSERT INTO Bookings (TableNo, GuestFirstName, GuestLastName, BookingSlot, EmployeeID)\n",
    "VALUES (%(TableNo)s, %(GuestFirstName)s, %(GuestLastName)s, %(BookingSlot)s, %(EmployeeID)s)\n",
    "\"\"\""
   ]
  },
  {
   "cell_type": "code",
   "execution_count": 27,
   "id": "1f64983a",
   "metadata": {},
   "outputs": [
    {
     "name": "stdout",
     "output_type": "stream",
     "text": [
      "Data inserted for Guest 1\n"
     ]
    }
   ],
   "source": [
    "\n",
    "try:\n",
    "    cursor1 = connection1.cursor()\n",
    "    cursor1.execute(insert_query1, guest1_data)\n",
    "    connection1.commit()\n",
    "    print(\"Data inserted for Guest 1\")\n",
    "except Error as e:\n",
    "    print(\"Error while inserting data for Guest 1:\", e)"
   ]
  },
  {
   "cell_type": "code",
   "execution_count": 28,
   "id": "4b5e9d1c",
   "metadata": {},
   "outputs": [],
   "source": [
    "## insering for guest 2\n",
    "\n",
    "# Step three: Insert data for Guest 2\n",
    "guest2_data = {\n",
    "    \"TableNo\": 5,\n",
    "    \"GuestFirstName\": \"Bald\",\n",
    "    \"GuestLastName\": \"Vin\",\n",
    "    \"BookingSlot\": \"19:00:00\",\n",
    "    \"EmployeeID\": 6\n",
    "}\n",
    "\n",
    "insert_query2 = \"\"\"\n",
    "INSERT INTO Bookings (TableNo, GuestFirstName, GuestLastName, BookingSlot, EmployeeID)\n",
    "VALUES (%(TableNo)s, %(GuestFirstName)s, %(GuestLastName)s, %(BookingSlot)s, %(EmployeeID)s)\n",
    "\"\"\""
   ]
  },
  {
   "cell_type": "code",
   "execution_count": 29,
   "id": "f21b3730",
   "metadata": {},
   "outputs": [
    {
     "name": "stdout",
     "output_type": "stream",
     "text": [
      "Data inserted for Guest 2\n"
     ]
    }
   ],
   "source": [
    "try:\n",
    "    cursor2 = connection2.cursor()\n",
    "    cursor2.execute(insert_query2, guest2_data)\n",
    "    connection2.commit()\n",
    "    print(\"Data inserted for Guest 2\")\n",
    "except Error as e:\n",
    "    print(\"Error while inserting data for Guest 2:\", e)"
   ]
  },
  {
   "cell_type": "code",
   "execution_count": 30,
   "id": "b88e6883",
   "metadata": {},
   "outputs": [],
   "source": [
    "## Insert for Guest 3 \n",
    "guest3_data = {\n",
    "    \"TableNo\": 12,\n",
    "    \"GuestFirstName\": \"Jay\",\n",
    "    \"GuestLastName\": \"Kon\",\n",
    "    \"BookingSlot\": \"19:30:00\",\n",
    "    \"EmployeeID\": 6\n",
    "}\n",
    "\n",
    "insert_query3 = \"\"\"\n",
    "INSERT INTO Bookings (TableNo, GuestFirstName, GuestLastName, BookingSlot, EmployeeID)\n",
    "VALUES (%(TableNo)s, %(GuestFirstName)s, %(GuestLastName)s, %(BookingSlot)s, %(EmployeeID)s)\n",
    "\"\"\""
   ]
  },
  {
   "cell_type": "code",
   "execution_count": 33,
   "id": "6be2a011",
   "metadata": {},
   "outputs": [
    {
     "name": "stdout",
     "output_type": "stream",
     "text": [
      "Something went wrong\n"
     ]
    }
   ],
   "source": [
    "# try:\n",
    "#     connection3 = poolConnect.get_connection()\n",
    "#     print(\"The guest is connected\")\n",
    "# except:\n",
    "#     print(\"Adding new connection in the pool.\")\n",
    "#     connection=connector.connect(user=\"admin\",password=\"admin\")\n",
    "    \n",
    "#     poolConnect.add_connection(cnx=connection)\n",
    "#     print(\"A new connection is added in the pool.\\n\")\n",
    "    \n",
    "#     connection3 = poolConnect.get_connection()\n",
    "#     print(\"'connection3' is added in the pool.\")\n",
    "\n",
    "try: \n",
    "    try:\n",
    "        cursor3 = connection3.cursor()\n",
    "        cursor3.execute(insert_query3, guest3_data)\n",
    "        connection3.commit()\n",
    "        print(\"Data inserted for Guest 3\")\n",
    "    except Error as e:\n",
    "        print(\"Error while inserting data for Guest 3:\", e)\n",
    "except:\n",
    "    print(\"Something went wrong\")"
   ]
  },
  {
   "cell_type": "code",
   "execution_count": 37,
   "id": "cca1cded",
   "metadata": {},
   "outputs": [
    {
     "name": "stdout",
     "output_type": "stream",
     "text": [
      "Error while returning connections to the pool: Failed adding connection; queue is full\n",
      "Error while getting connections from the pool: Failed adding connection; queue is full\n",
      "Error while getting connections from the pool: Failed adding connection; queue is full\n"
     ]
    }
   ],
   "source": [
    "# Step five: Return connections to the pool\n",
    "try:\n",
    "    connection1.close()\n",
    "    connection2.close()\n",
    "    # This will raise PoolError since the pool size is exceeded\n",
    "    # connection3.close()\n",
    "except Error as e:\n",
    "    print(\"Error while returning connections to the pool:\", e)\n",
    "\n",
    "# connection 1\n",
    "try:\n",
    "    # Get first connection\n",
    "    connection1.close()\n",
    "    print(\"Connection 1 closed\")\n",
    "except Error as e:\n",
    "    print(\"Error while getting connections from the pool:\", e)\n",
    "\n",
    "# connection 2\n",
    "try:\n",
    "    # Get first connection\n",
    "    connection2.close()\n",
    "    print('connection 2 closed')\n",
    "except Error as e:\n",
    "    print(\"Error while getting connections from the pool:\", e)\n",
    "\n"
   ]
  },
  {
   "attachments": {},
   "cell_type": "markdown",
   "id": "b1f35e00",
   "metadata": {},
   "source": [
    "\n",
    "# TASK 3\n",
    "# Step one: Retrieve the name and EmployeeID of the Little Lemon manager"
   ]
  },
  {
   "cell_type": "code",
   "execution_count": 38,
   "id": "1b72242b",
   "metadata": {},
   "outputs": [],
   "source": [
    "manager_query = \"\"\"\n",
    "SELECT Name, EmployeeID\n",
    "FROM Employees\n",
    "WHERE Role = 'Manager'\n",
    "\"\"\""
   ]
  },
  {
   "cell_type": "code",
   "execution_count": 39,
   "id": "468da21b",
   "metadata": {},
   "outputs": [
    {
     "name": "stdout",
     "output_type": "stream",
     "text": [
      "Little Lemon Manager:\n",
      "Name: Mario Gollini\n",
      "EmployeeID: 1\n"
     ]
    }
   ],
   "source": [
    "try:\n",
    "    cursor.execute(manager_query)\n",
    "    manager_result = cursor.fetchone()\n",
    "    manager_name = manager_result[0]\n",
    "    manager_employee_id = manager_result[1]\n",
    "    print(\"Little Lemon Manager:\")\n",
    "    print(\"Name:\", manager_name)\n",
    "    print(\"EmployeeID:\", manager_employee_id)\n",
    "except Error as e:\n",
    "    print(\"Error while retrieving Little Lemon manager information:\", e)"
   ]
  },
  {
   "cell_type": "code",
   "execution_count": 40,
   "id": "3fb64a2d",
   "metadata": {},
   "outputs": [],
   "source": [
    "# Step two: Retrieve the name and role of the employee with the highest salary\n",
    "highest_salary_query = \"\"\"\n",
    "SELECT Name, Role\n",
    "FROM Employees\n",
    "WHERE Annual_Salary = (\n",
    "    SELECT MAX(Annual_Salary)\n",
    "    FROM Employees\n",
    ")\n",
    "\"\"\""
   ]
  },
  {
   "cell_type": "code",
   "execution_count": 41,
   "id": "5ba31bcb",
   "metadata": {},
   "outputs": [
    {
     "name": "stdout",
     "output_type": "stream",
     "text": [
      "\n",
      "Employee with the Highest Salary:\n",
      "Name: Mario Gollini\n",
      "Role: Manager\n"
     ]
    }
   ],
   "source": [
    "try:\n",
    "    cursor.execute(highest_salary_query)\n",
    "    highest_salary_result = cursor.fetchone()\n",
    "    highest_salary_name = highest_salary_result[0]\n",
    "    highest_salary_role = highest_salary_result[1]\n",
    "    print(\"\\nEmployee with the Highest Salary:\")\n",
    "    print(\"Name:\", highest_salary_name)\n",
    "    print(\"Role:\", highest_salary_role)\n",
    "except Error as e:\n",
    "    print(\"Error while retrieving employee with highest salary:\", e)"
   ]
  },
  {
   "cell_type": "code",
   "execution_count": 42,
   "id": "255e6647",
   "metadata": {},
   "outputs": [
    {
     "name": "stdout",
     "output_type": "stream",
     "text": [
      "\n",
      "Number of Guests Booked between 18:00 and 20:00: 6\n"
     ]
    }
   ],
   "source": [
    "\n",
    "# Step three: Retrieve the number of guests booked between 18:00 and 20:00\n",
    "guests_booked_query = \"\"\"\n",
    "SELECT COUNT(*)\n",
    "FROM Bookings\n",
    "WHERE BookingSlot BETWEEN '18:00:00' AND '20:00:00'\n",
    "\"\"\"\n",
    "\n",
    "try:\n",
    "    cursor.execute(guests_booked_query)\n",
    "    guests_booked_result = cursor.fetchone()\n",
    "    guests_booked_count = guests_booked_result[0]\n",
    "    print(\"\\nNumber of Guests Booked between 18:00 and 20:00:\", guests_booked_count)\n",
    "except Error as e:\n",
    "    print(\"Error while retrieving number of guests booked:\", e)\n"
   ]
  },
  {
   "cell_type": "code",
   "execution_count": 44,
   "id": "e34a6884",
   "metadata": {},
   "outputs": [
    {
     "name": "stdout",
     "output_type": "stream",
     "text": [
      "\n",
      "Guests Waiting to be Seated:\n"
     ]
    }
   ],
   "source": [
    "\n",
    "# Step four: Retrieve the full name and BookingID of guests waiting to be seated, sorted by BookingSlot\n",
    "waiting_guests_null_query = \"\"\"\n",
    "SELECT CONCAT(GuestFirstName, ' ', GuestLastName) AS FullName, BookingID\n",
    "FROM Bookings\n",
    "WHERE TableNo IS NULL\n",
    "ORDER BY BookingSlot\n",
    "\"\"\"\n",
    "\n",
    "try:\n",
    "    cursor.execute(waiting_guests_null_query)\n",
    "    waiting_guests_result = cursor.fetchall()\n",
    "    print(\"\\nGuests Waiting to be Seated:\")\n",
    "    for guest in waiting_guests_result:\n",
    "        full_name = guest[0]\n",
    "        booking_id = guest[1]\n",
    "        print(\"Full Name:\", full_name)\n",
    "        print(\"BookingID:\", booking_id)\n",
    "        print()\n",
    "except Error as e:\n",
    "    print(\"Error while retrieving guests waiting to be seated:\", e)"
   ]
  },
  {
   "cell_type": "code",
   "execution_count": 46,
   "id": "baa09c02",
   "metadata": {},
   "outputs": [
    {
     "name": "stdout",
     "output_type": "stream",
     "text": [
      "\n",
      "Guests Waiting to be Seated:\n",
      "Full Name: 8\n",
      "BookingID: Bald Vin\n",
      "Role Receptionist\n",
      "\n",
      "Full Name: 7\n",
      "BookingID: Anees Java\n",
      "Role Receptionist\n",
      "\n"
     ]
    }
   ],
   "source": [
    "# Full name and the BookingId of each guest  waiting to be seated  \n",
    "# with the receptionist in sorted order with respect to their BookingSlot.\n",
    "waiting_guests_noNull_query = \"\"\"\n",
    "SELECT \n",
    "    Bookings.BookingID AS ID,  \n",
    "    CONCAT(GuestFirstName,' ',GuestLastName) AS GuestName, \n",
    "    Role AS Employee\n",
    "FROM Bookings \n",
    "    LEFT JOIN Employees \n",
    "    ON Employees.EmployeeID=Bookings.EmployeeID\n",
    "    WHERE Employees.Role = \"Receptionist\"\n",
    "    ORDER BY BookingSlot DESC;\n",
    "\"\"\"\n",
    "\n",
    "try:\n",
    "    cursor.execute(waiting_guests_noNull_query)\n",
    "    waiting_guests_result = cursor.fetchall()\n",
    "    print(\"\\nGuests Waiting to be Seated:\")\n",
    "    for guest in waiting_guests_result:\n",
    "        full_name = guest[0]\n",
    "        booking_id = guest[1]\n",
    "        Role = guest[2]\n",
    "        print(\"Full Name:\", full_name)\n",
    "        print(\"BookingID:\", booking_id)\n",
    "        print(\"Role\", Role)\n",
    "        print()\n",
    "except Error as e:\n",
    "    print(\"Error while retrieving guests waiting to be seated:\", e)\n",
    "\n",
    "\n",
    "# cursor.execute(\"\"\"\n",
    "# SELECT \n",
    "#     Bookings.BookingID AS ID,  \n",
    "#     CONCAT(GuestFirstName,' ',GuestLastName) AS GuestName, \n",
    "#     Role AS Employee\n",
    "# FROM Bookings \n",
    "#     LEFT JOIN Employees \n",
    "#     ON Employees.EmployeeID=Bookings.EmployeeID\n",
    "#     WHERE Employees.Role = \"Receptionist\"\n",
    "#     ORDER BY BookingSlot DESC;\n",
    "# \"\"\")\n",
    "# print(\"The following guests are waiting to be seated:\")\n",
    "# results=cursor.fetchall()\n",
    "# columns=cursor.column_names\n",
    "# print(columns)\n",
    "# for result in results:\n",
    "#     print(result)\n"
   ]
  },
  {
   "cell_type": "code",
   "execution_count": 47,
   "id": "02e19139",
   "metadata": {},
   "outputs": [
    {
     "name": "stdout",
     "output_type": "stream",
     "text": [
      "Today's sales report:\n",
      "\t Total_Sale : 243\n",
      "\t Average_Sale : 48.6000\n",
      "\t Min_Bill_Paid : 37\n",
      "\t Max_Bill_Paid : 86\n"
     ]
    }
   ],
   "source": [
    "# Create a stored procedure named BasicSalesReport. \n",
    "cursor.execute(\"DROP PROCEDURE IF EXISTS BasicSalesReport;\")\n",
    "\n",
    "stored_procedure_query_bassic_sales_report=\"\"\"\n",
    "CREATE PROCEDURE BasicSalesReport()\n",
    "BEGIN\n",
    "    SELECT \n",
    "        SUM(BillAmount) AS Total_Sale,\n",
    "        AVG(BillAmount) AS Average_Sale,\n",
    "        MIN(BillAmount) AS Min_Bill_Paid,\n",
    "        MAX(BillAmount) AS Max_Bill_Paid\n",
    "    FROM Orders;\n",
    "END\n",
    "\"\"\"\n",
    "cursor.execute(stored_procedure_query_bassic_sales_report)\n",
    "cursor.callproc(\"BasicSalesReport\")\n",
    "\n",
    "# Retrieve records in \"dataset\"\n",
    "results = next(cursor.stored_results())\n",
    "results = results.fetchall()\n",
    "\n",
    "# Retrieve column names using list comprehension in a for loop \n",
    "for column_id in cursor.stored_results():\n",
    "    cols = [column[0] for column in column_id.description]\n",
    "    \n",
    "print(\"Today's sales report:\")\n",
    "for result in results:\n",
    "    print(\"\\t\",cols[0],\":\",result[0])\n",
    "    print(\"\\t\",cols[1],\":\",result[1])\n",
    "    print(\"\\t\",cols[2],\":\",result[2])\n",
    "    print(\"\\t\",cols[3],\":\",result[3])"
   ]
  },
  {
   "cell_type": "code",
   "execution_count": 48,
   "id": "2943f27b",
   "metadata": {},
   "outputs": [],
   "source": [
    "# display the next 10 upcoming bookings from the Bookings\n",
    "cursor.execute(\"DROP PROCEDURE IF EXISTS UpcomingBookings;\")\n",
    "stored_procedure_query_UpcomingBookings=\"\"\"\n",
    "CREATE PROCEDURE UpcomingBookings()\n",
    "BEGIN\n",
    "select \n",
    "\tCONCAT(\"BookingSlot\",\" \", b.BookingSlot) as bookingSlot,\n",
    "\tCONCAT(\"Guest_name:\",\" \", CONCAT(b.GuestFirstName,\" \",b.GuestLastName)) as Guest_name,\n",
    "\tCONCAT(\"Asign to:\",\" \", CONCAT(e.Name, \" [\", e.Role, \"]\")) AS assign_to\n",
    "from Bookings b\n",
    "INNER JOIN \n",
    "Employees e\n",
    "ON e.EmployeeID=b.EmployeeID\n",
    "order by b.BookingID desc limit 10;\n",
    "END\n",
    "\"\"\"\n",
    "cursor.execute(stored_procedure_query_UpcomingBookings)"
   ]
  },
  {
   "cell_type": "code",
   "execution_count": 49,
   "id": "d2ec9b54",
   "metadata": {},
   "outputs": [
    {
     "name": "stdout",
     "output_type": "stream",
     "text": [
      "\n",
      " BookingSlot 19:00:00\n",
      "\t Guest_name: Bald Vin\n",
      "\t Asign to: John Millar [Receptionist]\n",
      "\n",
      " BookingSlot 18:00:00\n",
      "\t Guest_name: Anees Java\n",
      "\t Asign to: John Millar [Receptionist]\n",
      "\n",
      " BookingSlot 20:00:00\n",
      "\t Guest_name: Diana Pinto\n",
      "\t Asign to: Elena Salvai [Head Waiter]\n",
      "\n",
      " BookingSlot 18:30:00\n",
      "\t Guest_name: Hiroki Yamane\n",
      "\t Asign to: Adrian Gollini [Assistant Manager]\n",
      "\n",
      " BookingSlot 17:30:00\n",
      "\t Guest_name: Marcos Romero\n",
      "\t Asign to: Fatma Kaya [Assistant Chef]\n",
      "\n",
      " BookingSlot 15:00:00\n",
      "\t Guest_name: Vanessa McCarthy\n",
      "\t Asign to: Giorgos Dioudis [Head Chef]\n",
      "\n",
      " BookingSlot 19:00:00\n",
      "\t Guest_name: Joakim Iversen\n",
      "\t Asign to: Mario Gollini [Manager]\n",
      "\n",
      " BookingSlot 19:00:00\n",
      "\t Guest_name: Anna Iversen\n",
      "\t Asign to: Mario Gollini [Manager]\n"
     ]
    }
   ],
   "source": [
    "cursor.callproc(\"UpcomingBookings\")\n",
    "results = next(cursor.stored_results())\n",
    "results = results.fetchall()\n",
    "\n",
    "for result in results:\n",
    "    print(\"\\n\",result[0])\n",
    "    print(\"\\t\",result[1])\n",
    "    print(\"\\t\",result[2])\n",
    "connection.close()"
   ]
  },
  {
   "cell_type": "code",
   "execution_count": null,
   "id": "4c434d68",
   "metadata": {},
   "outputs": [],
   "source": []
  }
 ],
 "metadata": {
  "kernelspec": {
   "display_name": "Python 3",
   "language": "python",
   "name": "python3"
  },
  "language_info": {
   "codemirror_mode": {
    "name": "ipython",
    "version": 3
   },
   "file_extension": ".py",
   "mimetype": "text/x-python",
   "name": "python",
   "nbconvert_exporter": "python",
   "pygments_lexer": "ipython3",
   "version": "3.11.4"
  },
  "vscode": {
   "interpreter": {
    "hash": "7f77111daccc23ee13f37aa5bc91538e3cc885b4d94c13f1914792c74b8f06cc"
   }
  }
 },
 "nbformat": 4,
 "nbformat_minor": 5
}
