{
 "cells": [
  {
   "cell_type": "code",
   "execution_count": 1,
   "metadata": {},
   "outputs": [
    {
     "ename": "ValueError",
     "evalue": "invalid literal for int() with base 10: ''",
     "output_type": "error",
     "traceback": [
      "\u001b[0;31m---------------------------------------------------------------------------\u001b[0m",
      "\u001b[0;31mValueError\u001b[0m                                Traceback (most recent call last)",
      "Cell \u001b[0;32mIn[1], line 14\u001b[0m\n\u001b[1;32m     11\u001b[0m     hanoi(disks \u001b[39m-\u001b[39m \u001b[39m1\u001b[39m, helper, source, destination)\n\u001b[1;32m     13\u001b[0m \u001b[39m# Driver code\u001b[39;00m\n\u001b[0;32m---> 14\u001b[0m disks \u001b[39m=\u001b[39m \u001b[39mint\u001b[39;49m(\u001b[39minput\u001b[39;49m(\u001b[39m'\u001b[39;49m\u001b[39mNumber of disks to be displaced: \u001b[39;49m\u001b[39m'\u001b[39;49m))\n\u001b[1;32m     15\u001b[0m \u001b[39m'''\u001b[39;00m\n\u001b[1;32m     16\u001b[0m \u001b[39mTower names passed as arguments:\u001b[39;00m\n\u001b[1;32m     17\u001b[0m \u001b[39mSource: A\u001b[39;00m\n\u001b[1;32m     18\u001b[0m \u001b[39mHelper: B\u001b[39;00m\n\u001b[1;32m     19\u001b[0m \u001b[39mDestination: C\u001b[39;00m\n\u001b[1;32m     20\u001b[0m \u001b[39m'''\u001b[39;00m\n\u001b[1;32m     21\u001b[0m \u001b[39m# Actual function call\u001b[39;00m\n",
      "\u001b[0;31mValueError\u001b[0m: invalid literal for int() with base 10: ''"
     ]
    }
   ],
   "source": [
    "# Recursive function for Tower of Hanoi\n",
    "def hanoi(disks, source, helper, destination):\n",
    "    # Base Condition\n",
    "    if (disks == 1):\n",
    "        print('Disk {} moves from tower {} to tower {}.'.format(disks, source, destination))\n",
    "        return\n",
    "\n",
    "    # Recursive calls in which function calls itself\n",
    "    hanoi(disks - 1, source, destination, helper)\n",
    "    print('Disk {} moves from tower {} to tower {}.'.format(disks, source, destination))\n",
    "    hanoi(disks - 1, helper, source, destination)\n",
    "\n",
    "# Driver code\n",
    "disks = int(input('Number of disks to be displaced: '))\n",
    "'''\n",
    "Tower names passed as arguments:\n",
    "Source: A\n",
    "Helper: B\n",
    "Destination: C\n",
    "'''\n",
    "# Actual function call\n",
    "hanoi(disks, 'A', 'B', 'C')"
   ]
  },
  {
   "cell_type": "code",
   "execution_count": 2,
   "metadata": {},
   "outputs": [
    {
     "name": "stdout",
     "output_type": "stream",
     "text": [
      "lasrever\n"
     ]
    }
   ],
   "source": [
    "trial = \"reversal\"\n",
    "new_trial = trial[::-1]\n",
    "print(new_trial)"
   ]
  },
  {
   "cell_type": "code",
   "execution_count": 12,
   "metadata": {},
   "outputs": [
    {
     "name": "stdout",
     "output_type": "stream",
     "text": [
      "lasrever\n"
     ]
    }
   ],
   "source": [
    "def string_reversal(str):\n",
    "    if len(str) == 0:\n",
    "        return str\n",
    "    else:\n",
    "        return string_reversal(str[1:]) + str[0]\n",
    "  \n",
    "str = 'reversal'\n",
    "reverse = string_reversal(str)\n",
    "print(reverse)\n",
    "    \n",
    "\n"
   ]
  },
  {
   "cell_type": "code",
   "execution_count": 8,
   "metadata": {},
   "outputs": [
    {
     "name": "stdout",
     "output_type": "stream",
     "text": [
      "something went wrong maximum recursion depth exceeded while calling a Python object\n"
     ]
    }
   ],
   "source": [
    "try:\n",
    "    def string_reversal(str):\n",
    "        if len(str) == 0:\n",
    "            return str\n",
    "        else:\n",
    "            return string_reversal(str[::-1])\n",
    "    \n",
    "    str = 'reversal'\n",
    "    reverse = string_reversal(str)\n",
    "    print(reverse)\n",
    "except Exception as e:\n",
    "    print(\"something went wrong\", e)\n",
    "    \n",
    "\n"
   ]
  },
  {
   "cell_type": "code",
   "execution_count": 14,
   "metadata": {},
   "outputs": [
    {
     "name": "stdout",
     "output_type": "stream",
     "text": [
      "<map object at 0x7fe7e0333430>\n",
      "None\n",
      "None\n",
      "None\n",
      "cappuccino\n",
      "cortado\n",
      "None\n",
      "<filter object at 0x7fe7e0332c20>\n",
      "cappuccino\n",
      "cortado\n"
     ]
    }
   ],
   "source": [
    "## Using the map function\n",
    "\n",
    "menu = ['espresso', 'moncha', 'latter', 'cappuccino', 'cortado', 'americano']\n",
    "\n",
    "def find_coffee(coffee):\n",
    "    if coffee[0] == 'c':\n",
    "        return coffee\n",
    "map_coffee = map(find_coffee, menu)\n",
    "print(map_coffee)\n",
    "for x in map_coffee:\n",
    "    print(x)\n",
    "\n",
    "## using the filter function\n",
    "\n",
    "filter_coffee = filter(find_coffee, menu)\n",
    "print(filter_coffee)\n",
    "for x in filter_coffee:\n",
    "    print(x)\n"
   ]
  },
  {
   "attachments": {},
   "cell_type": "markdown",
   "metadata": {},
   "source": [
    "## Comprehension\n",
    "* list comprehension\n",
    "* Dictionary \n",
    "* set\n",
    "* Generator \n"
   ]
  },
  {
   "cell_type": "code",
   "execution_count": 15,
   "metadata": {},
   "outputs": [
    {
     "name": "stdout",
     "output_type": "stream",
     "text": [
      "Updating the list:  [5, 6, 8, 10, 14, 16, 20, 22, 26, 32, 34]\n",
      "Creating new list:  [10, 12, 16, 20, 28, 32, 40, 44, 52, 64, 68]\n",
      "Divisible by four [12, 16, 20, 28, 32, 40, 44, 52, 64, 68]\n",
      "Divisible by four minus one:  [11, 15, 19, 27, 31, 39, 43, 51, 63, 67]\n",
      "Nines:  [0, 9, 18, 27, 36, 45, 54, 63, 72, 81, 90, 99]\n"
     ]
    }
   ],
   "source": [
    "## list comprehension\n",
    "\n",
    "data = [2,3,5,7,11,13,17,19,23,29,31]\n",
    "\n",
    "# Ex1: List comprehension: updating the same list\n",
    "data = [x+3 for x in data]\n",
    "print(\"Updating the list: \", data)\n",
    "\n",
    "# Ex2: List comprehension: creating a different list with updated values\n",
    "new_data = [x*2 for x in data]\n",
    "print(\"Creating new list: \", new_data)\n",
    "\n",
    "# Ex3: With an if-condition: Multiples of four:\n",
    "fourx = [x for x in new_data if x%4 == 0 ]\n",
    "print(\"Divisible by four\", fourx)\n",
    "\n",
    "# Ex4: Alternatively, we can update the list with the if condition as well\n",
    "fourxsub = [x-1 for x in new_data if x%4 == 0 ]\n",
    "print(\"Divisible by four minus one: \", fourxsub)\n",
    "\n",
    "# Ex5: Using range function:\n",
    "nines = [x for x in range(100) if x%9 == 0]\n",
    "print(\"Nines: \", nines)"
   ]
  },
  {
   "cell_type": "code",
   "execution_count": 16,
   "metadata": {},
   "outputs": [
    {
     "name": "stdout",
     "output_type": "stream",
     "text": [
      "Using range():  {0: 0, 1: 2, 2: 4, 3: 6, 4: 8, 5: 10, 6: 12, 7: 14, 8: 16, 9: 18, 10: 20, 11: 22}\n",
      "Using one input list to create dict:  {1: 1, 2: 4, 3: 9, 4: 16, 5: 25, 6: 36, 7: 49, 8: 64, 9: 81, 10: 100, 11: 121, 12: 144}\n",
      "Using two lists:  {1: 'Jan', 2: 'Feb', 3: 'Mar', 4: 'Apr', 5: 'May', 6: 'June', 7: 'July', 8: 'Aug', 9: 'Sept', 10: 'Oct', 11: 'Nov', 12: 'Dec'}\n"
     ]
    }
   ],
   "source": [
    "## Dictionary \n",
    "\n",
    "# Using range() function and no input list\n",
    "usingrange = {x:x*2 for x in range(12)}\n",
    "print(\"Using range(): \",usingrange)\n",
    "\n",
    "# Lists\n",
    "months = [\"Jan\", \"Feb\", \"Mar\", \"Apr\", \"May\", \"June\", \"July\", \"Aug\", \"Sept\", \"Oct\", \"Nov\", \"Dec\"]\n",
    "number = [1,2,3,4,5,6,7,8,9,10,11,12]\n",
    "\n",
    "# Using one input list\n",
    "numdict = {x:x**2 for x in number}\n",
    "print(\"Using one input list to create dict: \", numdict)\n",
    "\n",
    "# Using two input lists\n",
    "months_dict = {key:value for (key, value) in zip(number, months)}\n",
    "print(\"Using two lists: \", months_dict)"
   ]
  },
  {
   "cell_type": "code",
   "execution_count": 17,
   "metadata": {},
   "outputs": [
    {
     "name": "stdout",
     "output_type": "stream",
     "text": [
      "{10, 11, 13, 15, 17, 18, 19}\n"
     ]
    }
   ],
   "source": [
    "## set \n",
    "set_a = {x for x in range(10,20) if x not in [12,14,16]}\n",
    "print(set_a)"
   ]
  },
  {
   "cell_type": "code",
   "execution_count": 18,
   "metadata": {},
   "outputs": [
    {
     "name": "stdout",
     "output_type": "stream",
     "text": [
      "<generator object <genexpr> at 0x7fe7c352f140>\n",
      "<class 'generator'>\n",
      "2 3 5 7 11 13 17 19 23 29 31 "
     ]
    }
   ],
   "source": [
    "## Generator\n",
    "data = [2,3,5,7,11,13,17,19,23,29,31]\n",
    "gen_obj = (x for x in data)\n",
    "print(gen_obj)\n",
    "print(type(gen_obj))\n",
    "for items in gen_obj:\n",
    "    print(items, end = \" \")"
   ]
  },
  {
   "cell_type": "code",
   "execution_count": 19,
   "metadata": {},
   "outputs": [
    {
     "name": "stdout",
     "output_type": "stream",
     "text": [
      "14\n"
     ]
    }
   ],
   "source": [
    "def sum(n):\n",
    "    if n==1:\n",
    "        return 0\n",
    "    return n + sum(n-1)\n",
    "a = sum(5)\n",
    "print(a)\n",
    "\n",
    "1\n",
    "3\n",
    "4"
   ]
  },
  {
   "cell_type": "code",
   "execution_count": 21,
   "metadata": {},
   "outputs": [
    {
     "name": "stdout",
     "output_type": "stream",
     "text": [
      "[True, True, True, False, False]\n"
     ]
    }
   ],
   "source": [
    "numbers = [15, 30, 47, 82, 95]\n",
    "def lesser(numbers):\n",
    "    return numbers < 50\n",
    "\n",
    "small = list(map(lesser, numbers))\n",
    "print(small)\n",
    "# [15, 30, 47]"
   ]
  },
  {
   "cell_type": "code",
   "execution_count": 3,
   "metadata": {},
   "outputs": [
    {
     "name": "stdout",
     "output_type": "stream",
     "text": [
      "5\n",
      "hello world\n",
      "None\n"
     ]
    }
   ],
   "source": [
    "class MyClass:\n",
    "    a = 5\n",
    "    \n",
    "\n",
    "    def hello(self):\n",
    "        print('hello world')\n",
    "\n",
    "\n",
    "myc = MyClass()\n",
    "print(MyClass.a)\n",
    "print(myc.hello())"
   ]
  },
  {
   "cell_type": "code",
   "execution_count": 5,
   "metadata": {},
   "outputs": [
    {
     "name": "stdout",
     "output_type": "stream",
     "text": [
      "5\n",
      "5\n",
      "7\n",
      "5\n"
     ]
    }
   ],
   "source": [
    "class House:\n",
    "    '''\n",
    "    This is a stub for a class representing a house that can be used to create objects and evaluate different metrics that we may require in constructing it.\n",
    "    '''\n",
    "    num_rooms = 5\n",
    "    bathrooms = 2\n",
    "    def cost_evaluation(self):\n",
    "        print(self.num_rooms)\n",
    "        pass\n",
    "        # Functionality to calculate the costs from the area of the house\n",
    "\n",
    "house = House()\n",
    "print(house.num_rooms)\n",
    "print(House.num_rooms)\n",
    "\n",
    "\n",
    "house.num_rooms = 7\n",
    "print(house.num_rooms)\n",
    "print(House.num_rooms)"
   ]
  },
  {
   "cell_type": "code",
   "execution_count": 6,
   "metadata": {},
   "outputs": [
    {
     "name": "stdout",
     "output_type": "stream",
     "text": [
      "7\n"
     ]
    }
   ],
   "source": [
    "value =7\n",
    "class A:\n",
    "    value =5\n",
    "\n",
    "a = A()\n",
    "a.value = 3\n",
    "print(value)"
   ]
  },
  {
   "cell_type": "code",
   "execution_count": 7,
   "metadata": {},
   "outputs": [
    {
     "ename": "NameError",
     "evalue": "name 'B' is not defined",
     "output_type": "error",
     "traceback": [
      "\u001b[0;31m---------------------------------------------------------------------------\u001b[0m",
      "\u001b[0;31mNameError\u001b[0m                                 Traceback (most recent call last)",
      "Cell \u001b[0;32mIn[7], line 2\u001b[0m\n\u001b[1;32m      1\u001b[0m bravo \u001b[39m=\u001b[39m\u001b[39m3\u001b[39m\n\u001b[0;32m----> 2\u001b[0m b\u001b[39m=\u001b[39m B()\n\u001b[1;32m      3\u001b[0m \u001b[39mclass\u001b[39;00m \u001b[39mB\u001b[39;00m:\n\u001b[1;32m      4\u001b[0m     bravo \u001b[39m=\u001b[39m\u001b[39m5\u001b[39m\n",
      "\u001b[0;31mNameError\u001b[0m: name 'B' is not defined"
     ]
    }
   ],
   "source": [
    "bravo =3\n",
    "b= B()\n",
    "class B:\n",
    "    bravo =5\n",
    "    print('Inside class B')\n",
    "c = B()\n",
    "print(b.bravo)"
   ]
  },
  {
   "cell_type": "code",
   "execution_count": 13,
   "metadata": {},
   "outputs": [
    {
     "name": "stdout",
     "output_type": "stream",
     "text": [
      "['cheese', 'bread', 'tomato']\n",
      "['penne', 'sauce']\n",
      "The Pizza has ['cheese', 'bread', 'tomato'] and takes 45 mins to prepare\n",
      "None\n"
     ]
    }
   ],
   "source": [
    "class Recipe():\n",
    "    def __init__(self, dish, items, time) -> None:\n",
    "        self.dish = dish\n",
    "        self.items = items\n",
    "        self.time = time\n",
    "\n",
    "\n",
    "    def contents(self):\n",
    "        print(\"The \"  + self.dish + \" has \" + str(self.items) +  \n",
    "              \" and takes \" + str(self.time) + \" mins to prepare\")\n",
    "        \n",
    "\n",
    "pizza = Recipe(\"Pizza\", [\"cheese\", \"bread\", 'tomato'], 45)\n",
    "pasta = Recipe(\"Pasta\", [\"penne\", \"sauce\"], 55)\n",
    "\n",
    "print(pizza.items)\n",
    "print(pasta.items)\n",
    "\n",
    "print(pizza.contents())"
   ]
  },
  {
   "attachments": {},
   "cell_type": "markdown",
   "metadata": {},
   "source": [
    "Step 1\n",
    "1.1 Define a class called MyFirstClass.\n",
    "\n",
    "1.2 Add a print statement inside it such as “Who wrote this?”.\n",
    "\n",
    "Step 2\n",
    "Create a string variable named index and initialize it with a string “Author-Book”.\n",
    "\n",
    "Step 3\n",
    "3.1 Define a function called hand_list() with the help of def keyword. \n",
    "\n",
    "3.2 Pass the parameter  self to it. And then pass two parameters, philosopher and book to it.\n",
    "\n",
    "Step 4\n",
    "4.1 Write a print statement using the print() function and pass the class variable by accessing it. \n",
    "\n",
    "Hint: Class variables are accessed directly by calling it over the class name using dot notation.\n",
    "\n",
    "4.2 Write a print statement that will give output such as: “Plato wrote the book: Republic” where “Plato” is the philosopher and “Republic” is the book. \n",
    "\n",
    "Hint: You can make use of the built-in (+) concatenation operator to join these strings. \n",
    "\n",
    "Step 5\n",
    "5.1 Create and instantiate an object of that class, called whodunnit\n",
    "\n",
    "5.2 Call method hand_list() over this object “whodunnit” and pass two values to it namely “Sun Tzu” and “The Art of War”.\n",
    "\n"
   ]
  },
  {
   "cell_type": "code",
   "execution_count": 18,
   "metadata": {},
   "outputs": [
    {
     "name": "stdout",
     "output_type": "stream",
     "text": [
      "Who wrote this\n"
     ]
    },
    {
     "ename": "AttributeError",
     "evalue": "'NoneType' object has no attribute 'hand_list'",
     "output_type": "error",
     "traceback": [
      "\u001b[0;31m---------------------------------------------------------------------------\u001b[0m",
      "\u001b[0;31mAttributeError\u001b[0m                            Traceback (most recent call last)",
      "Cell \u001b[0;32mIn[18], line 20\u001b[0m\n\u001b[1;32m     18\u001b[0m \u001b[39m# Call function handlist()\u001b[39;00m\n\u001b[1;32m     19\u001b[0m whodunnit \u001b[39m=\u001b[39m MyFirstClass()\n\u001b[0;32m---> 20\u001b[0m whodunnit\u001b[39m.\u001b[39;49mhand_list(\u001b[39m\"\u001b[39m\u001b[39mSun Tzu\u001b[39m\u001b[39m\"\u001b[39m, \u001b[39m\"\u001b[39m\u001b[39mThe Art of War\u001b[39m\u001b[39m\"\u001b[39m)\n",
      "\u001b[0;31mAttributeError\u001b[0m: 'NoneType' object has no attribute 'hand_list'"
     ]
    }
   ],
   "source": [
    "# Define class MyFirstClass\n",
    "def MyFirstClass():\n",
    "    print(\"Who wrote this\")\n",
    "\n",
    "    # Define string variable called index\n",
    "    index = \"Author-Book\"\n",
    "    \n",
    "    # Define function hand_list()\n",
    "    def hand_list(self, philosopher, book):\n",
    "        print(MyFirstClass.index)\n",
    "\n",
    "        # variable + “ wrote the book: ” + variable\n",
    "        print(philosopher + \" wrote the book: \" + book )\n",
    "    \n",
    "        \n",
    "        \n",
    "\n",
    "# Call function handlist()\n",
    "whodunnit = MyFirstClass()\n",
    "whodunnit.hand_list(\"Sun Tzu\", \"The Art of War\")"
   ]
  },
  {
   "cell_type": "code",
   "execution_count": 19,
   "metadata": {},
   "outputs": [
    {
     "name": "stdout",
     "output_type": "stream",
     "text": [
      "Who wrote this?\n",
      "Author-Book\n",
      "Sun Tzu wrote the book: The Art of War\n"
     ]
    }
   ],
   "source": [
    "# Sample Solution code\n",
    "class MyFirstClass():\n",
    "    print(\"Who wrote this?\")\n",
    "    index = \"Author-Book\"\n",
    "\n",
    "    def hand_list(self, philosopher, book):\n",
    "        print(MyFirstClass.index)\n",
    "        print(philosopher + \" wrote the book: \" + book)\n",
    "\n",
    "whodunnit = MyFirstClass()\n",
    "whodunnit.hand_list(\"Sun Tzu\", \"The Art of War\")"
   ]
  },
  {
   "cell_type": "code",
   "execution_count": 22,
   "metadata": {},
   "outputs": [
    {
     "ename": "SyntaxError",
     "evalue": "invalid syntax. Perhaps you forgot a comma? (2268367654.py, line 8)",
     "output_type": "error",
     "traceback": [
      "\u001b[0;36m  Cell \u001b[0;32mIn[22], line 8\u001b[0;36m\u001b[0m\n\u001b[0;31m    print(philosopher + \" wrote the book: \" + book  + \" in the year \" year )\u001b[0m\n\u001b[0m          ^\u001b[0m\n\u001b[0;31mSyntaxError\u001b[0m\u001b[0;31m:\u001b[0m invalid syntax. Perhaps you forgot a comma?\n"
     ]
    }
   ],
   "source": [
    "# Sample Solution code\n",
    "class MyFirstClass():\n",
    "    print(\"Who wrote this?\")\n",
    "    index = \"Author-Book\"\n",
    "\n",
    "    def hand_list(self, philosopher, book, year ):\n",
    "        print(MyFirstClass.index)\n",
    "        print(philosopher + \" wrote the book: \" + book  + \" in the year \" year )\n",
    "\n",
    "whodunnit = MyFirstClass()\n",
    "whodunnit.hand_list(\"Sun Tzu\", \"The Art of War\", \"5th century BC\" )"
   ]
  },
  {
   "cell_type": "code",
   "execution_count": 24,
   "metadata": {},
   "outputs": [
    {
     "name": "stdout",
     "output_type": "stream",
     "text": [
      "Nathan is not paid yet  \n",
      "  Roger is not paid yet\n",
      "Afetr payment\n",
      "Nathan is paid 1000  \n",
      "  Roger is not paid yet\n"
     ]
    }
   ],
   "source": [
    "class Payslips:\n",
    "    def __init__(self, name, payment, amount) -> None:\n",
    "        self.name = name\n",
    "        self.payment = payment\n",
    "        self.amount = amount\n",
    "\n",
    "    def pay(self):\n",
    "        self.payment = \"yes\"\n",
    "\n",
    "    def status(self):\n",
    "        if self.payment == \"yes\":\n",
    "            return self.name + \" is paid \" + str(self.amount)\n",
    "        else:\n",
    "            return self.name + \" is not paid yet\"\n",
    "        \n",
    "nathan = Payslips(\"Nathan\" , \"no\", 1000)\n",
    "roger = Payslips('Roger', \"no\", 3000)\n",
    "\n",
    "\n",
    "print(nathan.status(), \" \\n \" , roger.status())\n",
    "\n",
    "nathan.pay()\n",
    "print(\"After payment\")\n",
    "print(nathan.status(), \" \\n \" , roger.status())\n"
   ]
  },
  {
   "cell_type": "code",
   "execution_count": 27,
   "metadata": {},
   "outputs": [
    {
     "name": "stdout",
     "output_type": "stream",
     "text": [
      "May I take a leave for 3 days\n",
      "apple\n",
      " Emily\n"
     ]
    }
   ],
   "source": [
    "class Employee:\n",
    "    def __init__(self, name, last) -> None:\n",
    "        self.name = name\n",
    "        self.last = last\n",
    "\n",
    "class Supervisors(Employee):\n",
    "    def __init__(self, name, last, password) -> None:\n",
    "        super().__init__(name, last)\n",
    "        self.password = password\n",
    "\n",
    "class Chefs(Employee):\n",
    "    def leave_request(self, days):\n",
    "        return \"May I take a leave for \" + str(days) + \" days\"\n",
    "\n",
    "\n",
    "adrian = Supervisors(\" Adrian\", 'A', \"apple\")\n",
    "\n",
    "emily = Chefs(\" Emily\", 'E')\n",
    "\n",
    "juno = Chefs(\" JUno\", 'J')\n",
    "\n",
    "print(emily.leave_request(3))\n",
    "print(adrian.password)\n",
    "print(emily.name)"
   ]
  },
  {
   "cell_type": "code",
   "execution_count": 28,
   "metadata": {},
   "outputs": [
    {
     "name": "stdout",
     "output_type": "stream",
     "text": [
      "2\n"
     ]
    }
   ],
   "source": [
    "class A:\n",
    "   a = 1\n",
    "\n",
    "class B(A):\n",
    "   a = 2\n",
    "\n",
    "class C(B):\n",
    "   pass\n",
    "\n",
    "c = C()\n",
    "print(c.a)\n",
    "\n",
    "\n"
   ]
  },
  {
   "cell_type": "code",
   "execution_count": 29,
   "metadata": {},
   "outputs": [
    {
     "ename": "SyntaxError",
     "evalue": "invalid syntax (1574427202.py, line 1)",
     "output_type": "error",
     "traceback": [
      "\u001b[0;36m  Cell \u001b[0;32mIn[29], line 1\u001b[0;36m\u001b[0m\n\u001b[0;31m    Class A:\u001b[0m\n\u001b[0m          ^\u001b[0m\n\u001b[0;31mSyntaxError\u001b[0m\u001b[0;31m:\u001b[0m invalid syntax\n"
     ]
    }
   ],
   "source": [
    "Class A:\n",
    "    pass\n",
    "Class B(A):\n",
    "\tpass\n",
    "\n",
    "b = B()\n",
    "print(isinstance(b,B))\n",
    "print(isinstance(b,B))"
   ]
  },
  {
   "cell_type": "code",
   "execution_count": 30,
   "metadata": {},
   "outputs": [
    {
     "name": "stdout",
     "output_type": "stream",
     "text": [
      "Fruit type:  Apple\n",
      "Apple is sweet\n"
     ]
    }
   ],
   "source": [
    "\n",
    "## Inheritance\n",
    "class Fruit():\n",
    "    def __init__(self, fruit):\n",
    "        print('Fruit type: ', fruit)\n",
    "\n",
    "\n",
    "class FruitFlavour(Fruit):\n",
    "    def __init__(self):\n",
    "        super().__init__('Apple')\n",
    "        print('Apple is sweet')\n",
    "\n",
    "apple = FruitFlavour()\n",
    "\n",
    "\n",
    "#This happened because when you initialize the child class, you don’t initialize the base class with it. \n",
    "# super() function helps you to achieve this and add the initialization of base class with the derived class.\n"
   ]
  },
  {
   "cell_type": "code",
   "execution_count": 32,
   "metadata": {},
   "outputs": [
    {
     "name": "stdout",
     "output_type": "stream",
     "text": [
      "Print inside A.\n",
      "['__class__', '__delattr__', '__dict__', '__dir__', '__doc__', '__eq__', '__format__', '__ge__', '__getattribute__', '__gt__', '__hash__', '__init__', '__init_subclass__', '__le__', '__lt__', '__module__', '__ne__', '__new__', '__reduce__', '__reduce_ex__', '__repr__', '__setattr__', '__sizeof__', '__str__', '__subclasshook__', '__weakref__', 'alpha']\n",
      "Instantiating A..\n",
      "---------Inside class A----------\n",
      "2\n",
      "2\n",
      "5\n",
      "<__main__.A object at 0x7fe83eeb13f0>\n",
      "Instantiating B..\n",
      "---------Inside class B----------\n",
      "<__main__.A object at 0x7fe83eeb13f0>\n"
     ]
    }
   ],
   "source": [
    "class A:\n",
    "   def __init__(self, c):\n",
    "       print(\"---------Inside class A----------\")\n",
    "       self.c = c\n",
    "   print(\"Print inside A.\")\n",
    "\n",
    "   def alpha(self):\n",
    "       c = self.c + 1\n",
    "       return c\n",
    "\n",
    "print(dir(A))\n",
    "print(\"Instantiating A..\")\n",
    "a = A(1)\n",
    "print(a.alpha())\n",
    "\n",
    "\n",
    "class B:\n",
    "   def __init__(self, a):\n",
    "       print(\"---------Inside class B----------\")\n",
    "       self.a = a\n",
    "\n",
    "   print(a.alpha())\n",
    "   d = 5\n",
    "   print(d)\n",
    "   print(a)\n",
    "\n",
    "print(\"Instantiating B..\")\n",
    "b = B(a)\n",
    "print(a)"
   ]
  },
  {
   "cell_type": "code",
   "execution_count": 1,
   "metadata": {},
   "outputs": [
    {
     "name": "stdout",
     "output_type": "stream",
     "text": [
      "['98', '98']\n"
     ]
    }
   ],
   "source": [
    "# Abstract Classes and methods\n",
    "from abc import ABC, abstractmethod\n",
    "\n",
    "class Employee(ABC):\n",
    "    @abstractmethod\n",
    "    def donate(self):\n",
    "        pass\n",
    "\n",
    "class Donation(Employee):\n",
    "    def donate(self):\n",
    "        a = input(\"How much would you like to donate: \")\n",
    "        return a\n",
    "\n",
    "amounts = []\n",
    "john = Donation()\n",
    "j = john.donate()\n",
    "amounts.append(j)\n",
    "\n",
    "peter =  Donation()\n",
    "p = peter.donate()\n",
    "amounts.append(p)\n",
    "\n",
    "print(amounts)"
   ]
  },
  {
   "cell_type": "code",
   "execution_count": null,
   "metadata": {},
   "outputs": [],
   "source": [
    "# Import ABC and abstractmethod from the module abc (which stands for abstract base classes)\n",
    "from abc import ABC, abstractmethod\n",
    "\n",
    "# Class Bank\n",
    "class Bank(ABC):\n",
    "    \"\"\" An abstract bank class\n",
    "\n",
    "    [IMPLEMENT ME]\n",
    "        1. This class must derive from class ABC\n",
    "        2. Write a basicinfo() function that prints out \"This is a generic bank\" and\n",
    "           returns the string \"Generic bank: 0\" \n",
    "        3. Define a second function called withdraw and keep it empty by\n",
    "           adding the `pass` keyword under it. Make this function abstract by\n",
    "           adding an '@abstractmethod' tag right above the function declaration.\n",
    "    \"\"\"\n",
    "    ### YOUR CODE HERE\n",
    "    def basicinfo(self):\n",
    "        print('This is a generic bank')\n",
    "        return 'Generic bank: 0'\n",
    "\n",
    "    @abstractmethod\n",
    "    def withdraw():\n",
    "        pass\n",
    "\n",
    "# Class Swiss\n",
    "class Swiss(Bank):\n",
    "    \"\"\" A specific type of bank than derives from class Bank\n",
    "\n",
    "    [IMPLEMENT ME]\n",
    "        1. This class must derive from class Bank\n",
    "        2. Create a constructor for this class that initializes a class\n",
    "           variable `bal` to 1000\n",
    "        3. Implement the basicinfo() function so that it prints \"This is the \n",
    "           Swiss Bank\" and returns a string with \"Swiss Bank: \" (don't forget\n",
    "           the space after the colon) followed by the current bank balance.\n",
    "\n",
    "           For example, if self.bal = 80, then it would return \"Swiss Bank: 80\"\n",
    "\n",
    "        4. Implement withdraw so that it takes one argument (in addition to\n",
    "           self) that is an integer which represents the amount to be withdrawn\n",
    "           from the bank. Deduct the withdrawn amount from the bank bal, print \n",
    "           the withdrawn amount (\"Withdrawn amount: {amount}\"), print the new\n",
    "           balance (\"New Balance: {self.bal}\"), and return the new balance.\n",
    "\n",
    "           Note: Make sure to verify that there is enough money to withdraw!  \n",
    "                 If amount is greater than balance, then do not deduct any \n",
    "                 money from the class variable `bal`. Instead, print a \n",
    "                 statement saying `\"Insufficient funds\"`, and return the \n",
    "                 original account balance instead.\n",
    "    \"\"\"\n",
    "    ### YOUR CODE HERE\n",
    "\n",
    "    def __init__(self):\n",
    "        self.bal = 1000\n",
    "\n",
    "\n",
    "    def basicinfo(self):\n",
    "        print(\"This is the Swiss Bank\")\n",
    "        return \"Swiss Bank: \" + str(self.bal)\n",
    "        \n",
    "    def withdraw(self,amount):\n",
    "        if amount>self.bal:\n",
    "            print(\"Insufficient funds\")\n",
    "            return self.bal\n",
    "        self.bal = self.bal - amount\n",
    "        \n",
    "        print(\"Withdrawn amount: {}\".format(amount))\n",
    "        print(\"New Balance: {}\".format(self.bal))\n",
    "        return self.bal\n",
    "\n",
    "# Driver Code\n",
    "def main():\n",
    "    assert issubclass(Bank, ABC), \"Bank must derive from class ABC\"\n",
    "    s = Swiss()\n",
    "    print(s.basicinfo())\n",
    "    s.withdraw(30)\n",
    "    s.withdraw(1000)\n",
    "\n",
    "if __name__ == \"__main__\":\n",
    "    main()"
   ]
  },
  {
   "cell_type": "code",
   "execution_count": 1,
   "metadata": {},
   "outputs": [
    {
     "name": "stdout",
     "output_type": "stream",
     "text": [
      "Function inside B\n"
     ]
    }
   ],
   "source": [
    "# Example 1\n",
    "class A:\n",
    "   def a(self):\n",
    "       return \"Function inside A\"\n",
    "\n",
    "class B:\n",
    "    def a(self):\n",
    "        return \"Function inside B\"\n",
    "\n",
    "class C(B,A):\n",
    "    pass\n",
    "\n",
    "# Driver code\n",
    "c = C()\n",
    "print(c.a())"
   ]
  },
  {
   "cell_type": "code",
   "execution_count": 2,
   "metadata": {},
   "outputs": [
    {
     "name": "stdout",
     "output_type": "stream",
     "text": [
      "Function inside C\n"
     ]
    }
   ],
   "source": [
    "class A:\n",
    "    def b(self):\n",
    "        return \"Function inside A\"\n",
    "\n",
    "class B:\n",
    "    def b(self):\n",
    "        return \"Function inside B\"\n",
    "\n",
    "class C(A, B):\n",
    "    def b(self):\n",
    "        return \"Function inside C\"\n",
    "    pass\n",
    "\n",
    "class D(C):\n",
    "    pass\n",
    "\n",
    "d = D()\n",
    "print(d.b())"
   ]
  },
  {
   "cell_type": "code",
   "execution_count": 3,
   "metadata": {},
   "outputs": [
    {
     "name": "stdout",
     "output_type": "stream",
     "text": [
      "Function inside E\n",
      "[<class '__main__.F'>, <class '__main__.E'>, <class '__main__.D'>, <class '__main__.A'>, <class '__main__.B'>, <class '__main__.C'>, <class 'object'>]\n"
     ]
    }
   ],
   "source": [
    "class A:\n",
    "    def d(self):\n",
    "        return \"Function inside A\"\n",
    "\n",
    "class B:\n",
    "    def d(self):\n",
    "        return \"Function inside B\"\n",
    "\n",
    "\n",
    "class C:\n",
    "    def d(self):\n",
    "        return \"Function inside C\"\n",
    "\n",
    "\n",
    "class D(A, B):\n",
    "    def d(self):\n",
    "        return \"Function inside D\"\n",
    "\n",
    "\n",
    "class E(B, C):\n",
    "    def d(self):\n",
    "        return \"Function inside E\"\n",
    "\n",
    "\n",
    "class F(E,D,C):\n",
    "    pass\n",
    "\n",
    "f = F()\n",
    "print(f.d())\n",
    "print(F.mro())"
   ]
  },
  {
   "cell_type": "code",
   "execution_count": 4,
   "metadata": {},
   "outputs": [
    {
     "name": "stdout",
     "output_type": "stream",
     "text": [
      "Function inside C\n"
     ]
    }
   ],
   "source": [
    "class A:\n",
    "    def b(self):\n",
    "        return \"Function inside A\"\n",
    "\n",
    "class B:\n",
    "    pass\n",
    "\n",
    "class C:\n",
    "    def b(self):\n",
    "        return \"Function inside C\"\n",
    "\n",
    "class D(B, C, A):\n",
    "    pass\n",
    "\n",
    "class D(C):\n",
    "    pass\n",
    "\n",
    "d = D()\n",
    "print(d.b())"
   ]
  },
  {
   "cell_type": "code",
   "execution_count": 5,
   "metadata": {},
   "outputs": [
    {
     "ename": "TypeError",
     "evalue": "'int' object is not callable",
     "output_type": "error",
     "traceback": [
      "\u001b[0;31m---------------------------------------------------------------------------\u001b[0m",
      "\u001b[0;31mTypeError\u001b[0m                                 Traceback (most recent call last)",
      "Cell \u001b[0;32mIn[5], line 13\u001b[0m\n\u001b[1;32m     10\u001b[0m       \u001b[39mpass\u001b[39;00m\n\u001b[1;32m     12\u001b[0m c \u001b[39m=\u001b[39m C()\n\u001b[0;32m---> 13\u001b[0m \u001b[39mprint\u001b[39m(c\u001b[39m.\u001b[39;49ma())\n",
      "\u001b[0;31mTypeError\u001b[0m: 'int' object is not callable"
     ]
    }
   ],
   "source": [
    "a = 5\n",
    "class A:\n",
    "      a = 7\n",
    "      pass\n",
    "\n",
    "class B(A):\n",
    "      pass\n",
    "\n",
    "class C(B):\n",
    "      pass\n",
    "\n",
    "c = C()\n",
    "print(c.a())"
   ]
  },
  {
   "cell_type": "code",
   "execution_count": 6,
   "metadata": {},
   "outputs": [
    {
     "name": "stdout",
     "output_type": "stream",
     "text": [
      "7\n"
     ]
    }
   ],
   "source": [
    "value = 7\n",
    "class A:\n",
    "    value = 5\n",
    "\n",
    "a = A()\n",
    "a.value = 3\n",
    "print(value)"
   ]
  },
  {
   "cell_type": "code",
   "execution_count": 7,
   "metadata": {},
   "outputs": [
    {
     "name": "stdout",
     "output_type": "stream",
     "text": [
      "Inside class B\n"
     ]
    },
    {
     "ename": "AttributeError",
     "evalue": "'B' object has no attribute 'bravo'",
     "output_type": "error",
     "traceback": [
      "\u001b[0;31m---------------------------------------------------------------------------\u001b[0m",
      "\u001b[0;31mAttributeError\u001b[0m                            Traceback (most recent call last)",
      "Cell \u001b[0;32mIn[7], line 7\u001b[0m\n\u001b[1;32m      5\u001b[0m     \u001b[39mprint\u001b[39m(\u001b[39m\"\u001b[39m\u001b[39mInside class B\u001b[39m\u001b[39m\"\u001b[39m)\n\u001b[1;32m      6\u001b[0m c \u001b[39m=\u001b[39m B()\n\u001b[0;32m----> 7\u001b[0m \u001b[39mprint\u001b[39m(b\u001b[39m.\u001b[39;49mbravo)\n",
      "\u001b[0;31mAttributeError\u001b[0m: 'B' object has no attribute 'bravo'"
     ]
    }
   ],
   "source": [
    "bravo = 3\n",
    "b = B()\n",
    "class B:\n",
    "    bravo = 5\n",
    "    print(\"Inside class B\")\n",
    "c = B()\n",
    "print(b.bravo)"
   ]
  },
  {
   "cell_type": "code",
   "execution_count": 1,
   "metadata": {},
   "outputs": [
    {
     "ename": "NameError",
     "evalue": "name 'math' is not defined",
     "output_type": "error",
     "traceback": [
      "\u001b[0;31m---------------------------------------------------------------------------\u001b[0m",
      "\u001b[0;31mNameError\u001b[0m                                 Traceback (most recent call last)",
      "Cell \u001b[0;32mIn[1], line 2\u001b[0m\n\u001b[1;32m      1\u001b[0m \u001b[39mfrom\u001b[39;00m \u001b[39mmath\u001b[39;00m \u001b[39mimport\u001b[39;00m pi\n\u001b[0;32m----> 2\u001b[0m \u001b[39mprint\u001b[39m(math\u001b[39m.\u001b[39mpi)\n",
      "\u001b[0;31mNameError\u001b[0m: name 'math' is not defined"
     ]
    }
   ],
   "source": [
    "from math import pi\n",
    "print(math.pi)"
   ]
  },
  {
   "cell_type": "code",
   "execution_count": null,
   "metadata": {},
   "outputs": [],
   "source": []
  }
 ],
 "metadata": {
  "kernelspec": {
   "display_name": "Python 3",
   "language": "python",
   "name": "python3"
  },
  "language_info": {
   "codemirror_mode": {
    "name": "ipython",
    "version": 3
   },
   "file_extension": ".py",
   "mimetype": "text/x-python",
   "name": "python",
   "nbconvert_exporter": "python",
   "pygments_lexer": "ipython3",
   "version": "3.10.9"
  },
  "orig_nbformat": 4
 },
 "nbformat": 4,
 "nbformat_minor": 2
}
